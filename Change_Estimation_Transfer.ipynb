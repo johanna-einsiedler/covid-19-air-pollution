{
 "cells": [
  {
   "cell_type": "markdown",
   "metadata": {},
   "source": [
    "# Estimate Change during the Lockdown Period & Train a Lockdown Model by Using Transfer Learning\n",
    "\n",
    "\n",
    "### Read in and prepare data\n",
    "\n",
    "As input are needed:\n",
    "- the name of the chosen variable (i.e. air pollutant)\n",
    "- a dataframe containing the observations of weather variables and air pollutants (as produced by the script \"Generate Variables\")\n",
    "- a dataframe containing the selected explanatory variables for the models for each station (as produced by the script \"Model Selection\")\n",
    "- the dates of beginning and end of the lockdown in the country/region of observation (here read in from the file 'dictionaries')"
   ]
  },
  {
   "cell_type": "code",
   "execution_count": 1,
   "metadata": {},
   "outputs": [],
   "source": [
    "# get data \n",
    "import numpy as np\n",
    "import pandas as pd\n",
    "from ipywidgets import interact, interact_manual\n",
    "from pygam import LinearGAM, LogisticGAM, s, f,l, GAM, te\n",
    "from functions import GAMf, time_plot_conf, curves\n",
    "from sklearn.metrics import mean_squared_error\n",
    "from itertools import chain\n",
    "import matplotlib.pyplot as plt\n",
    "from datetime import datetime\n",
    "from dictionaries import starts, ends, che_classes, beijing_classes, wuhan_classes, at_classes, loc_classes"
   ]
  },
  {
   "cell_type": "code",
   "execution_count": 2,
   "metadata": {},
   "outputs": [],
   "source": [
    "loc = 'at'"
   ]
  },
  {
   "cell_type": "code",
   "execution_count": 3,
   "metadata": {},
   "outputs": [],
   "source": [
    "# choose pollutant to examine\n",
    "in_var = 'no2'\n",
    "IN_VAR = in_var.upper()\n",
    "loc = 'che'"
   ]
  },
  {
   "cell_type": "code",
   "execution_count": 4,
   "metadata": {},
   "outputs": [],
   "source": [
    "# read in dataframe with chosen variables as produced by the variable selection algorithm\n",
    "chosen_vars = pd.read_csv('./' + loc+ '/'+in_var+'_chosen_vars.csv', index_col =0)"
   ]
  },
  {
   "cell_type": "code",
   "execution_count": 6,
   "metadata": {},
   "outputs": [],
   "source": [
    "# read in dataset of explanatory & independent variables observations as produced by the variable generation script\n",
    "data_path =  './' + loc+ '/'+ 'df_' + loc + '2.csv'\n",
    "df = pd.read_csv(data_path, index_col = 0)"
   ]
  },
  {
   "cell_type": "code",
   "execution_count": 7,
   "metadata": {},
   "outputs": [],
   "source": [
    "# convert index to datetime format\n",
    "df.index = pd.to_datetime(df.index)"
   ]
  },
  {
   "cell_type": "code",
   "execution_count": 8,
   "metadata": {},
   "outputs": [],
   "source": [
    "# as we are working with a log normal distribution, 0 values for the independent variable cannot be processed \n",
    "# they are replaced by a very low non zero number\n",
    "df[in_var] = df[in_var].replace(0,0.0001)"
   ]
  },
  {
   "cell_type": "code",
   "execution_count": 9,
   "metadata": {},
   "outputs": [],
   "source": [
    "# drop all columns with NaN values, infinite values or values negative values for the observed variable\n",
    "df = df.replace([np.inf, -np.inf], np.nan)\n",
    "df = df.dropna(subset=[in_var])\n",
    "df = df.drop(df[df[in_var]<0].index)"
   ]
  },
  {
   "cell_type": "code",
   "execution_count": 10,
   "metadata": {},
   "outputs": [],
   "source": [
    "# get vector with names of all cities\n",
    "cities = np.unique(df['city'].values)"
   ]
  },
  {
   "cell_type": "code",
   "execution_count": 11,
   "metadata": {},
   "outputs": [],
   "source": [
    "# create a fake variable that is always 0\n",
    "df['weekday_d'] = 0"
   ]
  },
  {
   "cell_type": "code",
   "execution_count": 12,
   "metadata": {},
   "outputs": [],
   "source": [
    "# define the dataset before, during and after the lockdown\n",
    "df_pre_ld = df[df.index< datetime.strptime(starts[loc], '%m/%d/%Y')]\n",
    "df_ld = df[df.index>=datetime.strptime(starts[loc], '%m/%d/%Y')]\n",
    "df_ld = df_ld[df_ld.index<datetime.strptime(ends[loc], '%m/%d/%Y')]\n",
    "df_post_ld = df[df.index> datetime.strptime(ends[loc], '%m/%d/%Y')]"
   ]
  },
  {
   "cell_type": "markdown",
   "metadata": {},
   "source": [
    "# Estimation of the Change during the Lockdown & Training of the LD-Model\n",
    "\n",
    "In a frist step, a model is trained on the pre-Lockdown data as in the \"Model Evaluation\" script. In the next step, the weekday variable is fitted newly to the data of the lockdown period. This is, as it can be assumed that relationships between pollutants and weather variables will stay constant also during the lockdown period. However, the weekday variable is simultaneously a proxy for traffic which is expected to change its pattern during the lockdown. This offers an opportunity to train a model for the lockdown conditions."
   ]
  },
  {
   "cell_type": "code",
   "execution_count": 13,
   "metadata": {},
   "outputs": [],
   "source": [
    "# function to calculate the transfer model\n",
    "def GAM_transfer_covid(gam, df_test, chosen_vars, city):\n",
    "    \n",
    "    # filter for city\n",
    "    df_test = df_test[df_test['city']==city]\n",
    "    \n",
    "    # generate list of explanatory variables with dummy name instead of true transfer variable name\n",
    "    ex_vars_dummy = chosen_vars.loc[city].dropna().values.tolist()\n",
    "    if 'weekday' in ex_vars_dummy:\n",
    "        w_index = ex_vars_dummy.index('weekday')\n",
    "        ex_vars_dummy[w_index] = 'weekday_d'\n",
    "    else:\n",
    "        ex_vars_dummy.append('weekday_d')\n",
    "    #print(ex_vars_dummy)\n",
    "    \n",
    "    # predict based on the values of the test dataset expect with weekday being always 0\n",
    "    pred_0 = gam.predict(df_test[ex_vars_dummy])\n",
    "    df_transfer = pd.DataFrame(pd.np.column_stack([df_test[['weekday',in_var]], np.exp(pred_0)]))\n",
    "    df_transfer.columns = ['weekday', 'pred', in_var]\n",
    "    df_transfer['diff'] = df_transfer['pred'] - df_transfer[in_var]\n",
    "    \n",
    "    # plot newly fitted curve\n",
    "    gamT = LinearGAM(f(0), fit_intercept = False)\n",
    "    gamT.fit(df_transfer['weekday'], df_transfer['diff'])\n",
    "    return(gamT)\n"
   ]
  },
  {
   "cell_type": "code",
   "execution_count": 14,
   "metadata": {},
   "outputs": [
    {
     "name": "stderr",
     "output_type": "stream",
     "text": [
      "C:\\Users\\hicom\\Anaconda3\\lib\\site-packages\\ipykernel_launcher.py:75: SettingWithCopyWarning: \n",
      "A value is trying to be set on a copy of a slice from a DataFrame.\n",
      "Try using .loc[row_indexer,col_indexer] = value instead\n",
      "\n",
      "See the caveats in the documentation: https://pandas.pydata.org/pandas-docs/stable/user_guide/indexing.html#returning-a-view-versus-a-copy\n",
      "C:\\Users\\hicom\\Anaconda3\\lib\\site-packages\\ipykernel_launcher.py:76: SettingWithCopyWarning: \n",
      "A value is trying to be set on a copy of a slice from a DataFrame.\n",
      "Try using .loc[row_indexer,col_indexer] = value instead\n",
      "\n",
      "See the caveats in the documentation: https://pandas.pydata.org/pandas-docs/stable/user_guide/indexing.html#returning-a-view-versus-a-copy\n",
      "C:\\Users\\hicom\\Anaconda3\\lib\\site-packages\\ipykernel_launcher.py:77: SettingWithCopyWarning: \n",
      "A value is trying to be set on a copy of a slice from a DataFrame.\n",
      "Try using .loc[row_indexer,col_indexer] = value instead\n",
      "\n",
      "See the caveats in the documentation: https://pandas.pydata.org/pandas-docs/stable/user_guide/indexing.html#returning-a-view-versus-a-copy\n",
      "C:\\Users\\hicom\\Anaconda3\\lib\\site-packages\\ipykernel_launcher.py:75: SettingWithCopyWarning: \n",
      "A value is trying to be set on a copy of a slice from a DataFrame.\n",
      "Try using .loc[row_indexer,col_indexer] = value instead\n",
      "\n",
      "See the caveats in the documentation: https://pandas.pydata.org/pandas-docs/stable/user_guide/indexing.html#returning-a-view-versus-a-copy\n",
      "C:\\Users\\hicom\\Anaconda3\\lib\\site-packages\\ipykernel_launcher.py:76: SettingWithCopyWarning: \n",
      "A value is trying to be set on a copy of a slice from a DataFrame.\n",
      "Try using .loc[row_indexer,col_indexer] = value instead\n",
      "\n",
      "See the caveats in the documentation: https://pandas.pydata.org/pandas-docs/stable/user_guide/indexing.html#returning-a-view-versus-a-copy\n",
      "C:\\Users\\hicom\\Anaconda3\\lib\\site-packages\\ipykernel_launcher.py:77: SettingWithCopyWarning: \n",
      "A value is trying to be set on a copy of a slice from a DataFrame.\n",
      "Try using .loc[row_indexer,col_indexer] = value instead\n",
      "\n",
      "See the caveats in the documentation: https://pandas.pydata.org/pandas-docs/stable/user_guide/indexing.html#returning-a-view-versus-a-copy\n",
      "C:\\Users\\hicom\\Anaconda3\\lib\\site-packages\\ipykernel_launcher.py:75: SettingWithCopyWarning: \n",
      "A value is trying to be set on a copy of a slice from a DataFrame.\n",
      "Try using .loc[row_indexer,col_indexer] = value instead\n",
      "\n",
      "See the caveats in the documentation: https://pandas.pydata.org/pandas-docs/stable/user_guide/indexing.html#returning-a-view-versus-a-copy\n",
      "C:\\Users\\hicom\\Anaconda3\\lib\\site-packages\\ipykernel_launcher.py:76: SettingWithCopyWarning: \n",
      "A value is trying to be set on a copy of a slice from a DataFrame.\n",
      "Try using .loc[row_indexer,col_indexer] = value instead\n",
      "\n",
      "See the caveats in the documentation: https://pandas.pydata.org/pandas-docs/stable/user_guide/indexing.html#returning-a-view-versus-a-copy\n",
      "C:\\Users\\hicom\\Anaconda3\\lib\\site-packages\\ipykernel_launcher.py:77: SettingWithCopyWarning: \n",
      "A value is trying to be set on a copy of a slice from a DataFrame.\n",
      "Try using .loc[row_indexer,col_indexer] = value instead\n",
      "\n",
      "See the caveats in the documentation: https://pandas.pydata.org/pandas-docs/stable/user_guide/indexing.html#returning-a-view-versus-a-copy\n",
      "C:\\Users\\hicom\\Anaconda3\\lib\\site-packages\\ipykernel_launcher.py:75: SettingWithCopyWarning: \n",
      "A value is trying to be set on a copy of a slice from a DataFrame.\n",
      "Try using .loc[row_indexer,col_indexer] = value instead\n",
      "\n",
      "See the caveats in the documentation: https://pandas.pydata.org/pandas-docs/stable/user_guide/indexing.html#returning-a-view-versus-a-copy\n",
      "C:\\Users\\hicom\\Anaconda3\\lib\\site-packages\\ipykernel_launcher.py:76: SettingWithCopyWarning: \n",
      "A value is trying to be set on a copy of a slice from a DataFrame.\n",
      "Try using .loc[row_indexer,col_indexer] = value instead\n",
      "\n",
      "See the caveats in the documentation: https://pandas.pydata.org/pandas-docs/stable/user_guide/indexing.html#returning-a-view-versus-a-copy\n",
      "C:\\Users\\hicom\\Anaconda3\\lib\\site-packages\\ipykernel_launcher.py:77: SettingWithCopyWarning: \n",
      "A value is trying to be set on a copy of a slice from a DataFrame.\n",
      "Try using .loc[row_indexer,col_indexer] = value instead\n",
      "\n",
      "See the caveats in the documentation: https://pandas.pydata.org/pandas-docs/stable/user_guide/indexing.html#returning-a-view-versus-a-copy\n",
      "C:\\Users\\hicom\\Anaconda3\\lib\\site-packages\\ipykernel_launcher.py:75: SettingWithCopyWarning: \n",
      "A value is trying to be set on a copy of a slice from a DataFrame.\n",
      "Try using .loc[row_indexer,col_indexer] = value instead\n",
      "\n",
      "See the caveats in the documentation: https://pandas.pydata.org/pandas-docs/stable/user_guide/indexing.html#returning-a-view-versus-a-copy\n",
      "C:\\Users\\hicom\\Anaconda3\\lib\\site-packages\\ipykernel_launcher.py:76: SettingWithCopyWarning: \n",
      "A value is trying to be set on a copy of a slice from a DataFrame.\n",
      "Try using .loc[row_indexer,col_indexer] = value instead\n",
      "\n",
      "See the caveats in the documentation: https://pandas.pydata.org/pandas-docs/stable/user_guide/indexing.html#returning-a-view-versus-a-copy\n",
      "C:\\Users\\hicom\\Anaconda3\\lib\\site-packages\\ipykernel_launcher.py:77: SettingWithCopyWarning: \n",
      "A value is trying to be set on a copy of a slice from a DataFrame.\n",
      "Try using .loc[row_indexer,col_indexer] = value instead\n",
      "\n",
      "See the caveats in the documentation: https://pandas.pydata.org/pandas-docs/stable/user_guide/indexing.html#returning-a-view-versus-a-copy\n"
     ]
    }
   ],
   "source": [
    "from dateutil.relativedelta import relativedelta\n",
    "import warnings\n",
    "warnings.simplefilter(action='ignore', category=FutureWarning)\n",
    "\n",
    "# initalize dataframes\n",
    "names = ['RMSE', 'R_squared', 'FAC2', 'testdays', 'traidays','ratio','avg_err']\n",
    "gam_pre_lockdown = pd.DataFrame(data = None, index = cities, columns = ['model'])\n",
    "out_pre_lockdown = pd.DataFrame(data=None, index = cities, columns = names)\n",
    "gam_lockdown = pd.DataFrame(data = None, index = cities, columns = ['model'])\n",
    "df_compare_all = pd.DataFrame(data=None)\n",
    "\n",
    "# define start and end date of lockdown\n",
    "start = datetime.strptime(starts[loc], '%m/%d/%Y')\n",
    "end = datetime.strptime(ends[loc], '%m/%d/%Y')\n",
    "\n",
    "# transform index to datetime format\n",
    "df.index = pd.to_datetime(df.index)\n",
    "\n",
    "\n",
    "# drop observations with negative, infinite or NaN values for the pollutant\n",
    "df = df.dropna(subset=[in_var])\n",
    "df = df.drop(df[df[in_var]<0].index)\n",
    "df = df.replace([np.inf, -np.inf], np.nan)\n",
    "\n",
    "# perform the estimation for each city\n",
    "for city in cities:\n",
    "\n",
    "    # subset dataset to city\n",
    "    df_city = df[df['city']==city]\n",
    "    \n",
    "    # create a dataframe only containing the data from 2020\n",
    "    df_2020 =  df_city[df_city.index>=datetime.strptime(starts[loc], '%m/%d/%Y')]\n",
    "    df_2020 = df_2020[df_2020.index<datetime.strptime(ends[loc], '%m/%d/%Y')]\n",
    "    df_2020.index = df_2020.index.month.astype(str) + '/' + df_2020.index.day.astype(str)\n",
    "    \n",
    "    # create a dataframe only containing the data from 2019\n",
    "    df_2019 = df_city[df_city.index<(end- relativedelta(years=1))]\n",
    "    df_2019 = df_2019[df_2019.index>(start - relativedelta(years=1))]\n",
    "    df_2019.index = df_2019.index.month.astype(str) + '/' + df_2019.index.day.astype(str)\n",
    "    \n",
    "    \n",
    "    # specify list of explanatory variables according to the variables chosen by the selection algorithm\n",
    "    ex_vars = chosen_vars.loc[city].dropna().values.tolist()\n",
    "    if 'weekday' not in ex_vars:\n",
    "        ex_vars.append('weekday')\n",
    "    \n",
    "    # specify the same list but with the fake weekday variable instead of the true values\n",
    "    ex_vars_dummy = chosen_vars.loc[city].dropna().values.tolist()\n",
    "    if 'weekday' in ex_vars_dummy:\n",
    "        w_index = ex_vars_dummy.index('weekday')\n",
    "        ex_vars_dummy[w_index] = 'weekday_d'\n",
    "    else:\n",
    "        ex_vars_dummy.append('weekday_d')\n",
    "    \n",
    "    # fit the model on 24 months of pre lockdown data\n",
    "    gam_pre_lockdown.loc[city, 'model'], out_pre_lockdown.loc[city, names[0]:names[6]], preds=  GAMf(df, in_var, ex_vars, city, starts[loc], ends[loc],24)\n",
    "    gam_lockdown.loc[city, 'model'] = GAM_transfer_covid(gam_pre_lockdown.loc[city, 'model'], df_2020, chosen_vars, city)\n",
    "   \n",
    "   \n",
    "    # create a dataframe to compare prediction and true values of 2019 & 2020\n",
    "    df_compare = df_2020[[in_var,'city']]\n",
    "    \n",
    "    max_value = df_city[df_city.index<=datetime.strptime(starts[loc], '%m/%d/%Y')][in_var].max()\n",
    "    min_value = df_city[df_city.index>=datetime.strptime(starts[loc], '%m/%d/%Y')][in_var].min()\n",
    "    \n",
    "    # use the max_value as the upper limit for the predictions\n",
    "    pre_lockdown = np.exp(gam_pre_lockdown.loc[city, 'model'].predict(df_2020[ex_vars]))\n",
    "    pre_lockdown[pre_lockdown>max_value] = max_value\n",
    "    \n",
    "    dummy = np.exp(gam_pre_lockdown.loc[city, 'model'].predict(df_2020[ex_vars_dummy]))\n",
    "    dummy[dummy>max_value] = max_value\n",
    "\n",
    "    # write the pre lockdown odel prediction, the dummy prediction (i.e. with weekday always equal to 0)\n",
    "    # and the transfer model prediction into the dataframe\n",
    "    df_compare['pre_lockdown_model'] = pre_lockdown\n",
    "    df_compare['dummy'] = dummy\n",
    "    df_compare['lockdown_model'] = df_compare['dummy'] + gam_lockdown.loc[city, 'model'].predict(df_2020['weekday'])\n",
    "    df_compare = df_compare.join(df_2019[in_var], lsuffix='_2020', rsuffix = '_2019')\n",
    "    \n",
    "    df_compare_all = df_compare_all.append(df_compare)\n",
    "\n",
    "df_compare_all['class'] = df_compare_all['city'].replace(loc_classes[loc])\n",
    "df_compare_all = df_compare_all.rename(columns = {'pm10_2019': 'pm_2019', 'pm10_2020': 'pm_2020'})\n",
    "    \n",
    " "
   ]
  },
  {
   "cell_type": "markdown",
   "metadata": {},
   "source": [
    "## Evaluate the Performance of the Transfer Model\n",
    "\n",
    "The lockdown model is evaluated performing cross validation with random test sets of 3 days each. The remaining days of the lockdown are used for training."
   ]
  },
  {
   "cell_type": "code",
   "execution_count": 15,
   "metadata": {},
   "outputs": [],
   "source": [
    "def GAM_transfer_covid_eval(gam, df_covid, chosen_vars, city):\n",
    "    \n",
    "    # filter for city\n",
    "    df_covid = df_covid[df_covid['city']==city]\n",
    "    \n",
    "    # generate list of explanatory variables with dummy name instead of true transfer variable name\n",
    "    ex_vars_dummy = chosen_vars.loc[city].dropna().values.tolist()\n",
    "    if 'weekday' in ex_vars_dummy:\n",
    "        w_index = ex_vars_dummy.index('weekday')\n",
    "        ex_vars_dummy[w_index] = 'weekday_d'\n",
    "    else:\n",
    "        ex_vars_dummy.append('weekday_d')\n",
    "    \n",
    "    ex_vars = chosen_vars.loc[city].dropna().values.tolist()\n",
    "    if 'weekday' not in ex_vars:\n",
    "        ex_vars.append('weekday')\n",
    "    \n",
    "    rmse_normal =[]\n",
    "    rmse_covid = []\n",
    "\n",
    "    for i in range(1, int(len(df_covid)/3)):\n",
    "    \n",
    "        test_index = df_covid.index[3*(i-1):3*(i-1)+3]\n",
    "        train_bool = (df_covid.index != test_index[0])*(df_covid.index != test_index[1])*(df_covid.index != test_index[2])\n",
    "        test_bool = ~train_bool\n",
    "\n",
    "        # predict based on the values of the test dataset expect with weekday being always 0\n",
    "        pred_0 = gam.predict(df_covid[train_bool][ex_vars_dummy])\n",
    "        df_transfer = pd.DataFrame(pd.np.column_stack([df_covid[train_bool][['weekday',in_var]], np.exp(pred_0)]))\n",
    "        df_transfer.columns = ['weekday', 'pred', in_var]\n",
    "        df_transfer['diff'] = df_transfer['pred'] - df_transfer[in_var]\n",
    "\n",
    "        # get newly fitted GAM Model\n",
    "        gamT = LinearGAM(f(0), fit_intercept = False)\n",
    "        gamT.fit(df_transfer['weekday'], df_transfer['diff'])\n",
    "\n",
    "        # predict test data with covid model\n",
    "        pred_1 = np.exp(gam.predict(df_covid[test_bool][ex_vars_dummy]))\n",
    "        df_transfer1 = pd.DataFrame(pd.np.column_stack([df_covid[test_bool][['weekday',in_var]], np.exp(pred_1)]))\n",
    "        df_transfer1.columns = ['weekday', 'pred', in_var]\n",
    "        pred_diff = gamT.predict(df_transfer1['weekday'])\n",
    "        pred_covid = pred_1 + pred_diff\n",
    "\n",
    "        # predict test data with normal model\n",
    "        pred_norm = np.exp(gam.predict(df_covid[test_bool][ex_vars]))\n",
    "\n",
    "        # gather rmse values\n",
    "        rmse_covid.append(np.sqrt(mean_squared_error(pred_covid, df_covid[test_bool][in_var])))\n",
    "        rmse_normal.append(np.sqrt(mean_squared_error(pred_norm, df_covid[test_bool][in_var])))\n",
    "    \n",
    "    len(rmse_normal)\n",
    "    len(rmse_covid)\n",
    "    return(gamT, rmse_normal, rmse_covid)\n"
   ]
  },
  {
   "cell_type": "code",
   "execution_count": 16,
   "metadata": {},
   "outputs": [],
   "source": [
    "RMSE = pd.DataFrame(data=None, columns = list(chain(*[cities +'_normal', cities + '_covid'])))\n",
    "gam_transfer_eval = pd.DataFrame(data = None, index = cities, columns = ['model'])\n",
    "stats =[]\n",
    "for city in cities:\n",
    "    gam_transfer_eval.loc[city, 'model'],  RMSE.loc[:, city +'_normal'],  RMSE.loc[:, city +'_covid']  = GAM_transfer_covid_eval(gam_pre_lockdown.loc[city, 'model'], df_ld, chosen_vars, city)"
   ]
  },
  {
   "cell_type": "markdown",
   "metadata": {},
   "source": [
    "## Post Lockdown Period\n",
    "\n",
    "The period after lockdown is predicted with both models, pre-LD model and LD model. These predictions can serve as indicators if the specific city has already gone back to normal or behaves more like during the lockdown. "
   ]
  },
  {
   "cell_type": "code",
   "execution_count": 17,
   "metadata": {},
   "outputs": [],
   "source": [
    "def post_predict(df_post, gam_lockdown, gam_pre_lockdown, city):\n",
    "    \n",
    "    ex_vars = chosen_vars.loc[city].dropna().values.tolist()\n",
    "    if 'weekday' not in ex_vars:\n",
    "        ex_vars.append('weekday')\n",
    "    \n",
    "    # specify the same list but with the fake weekday variable instead of the true values\n",
    "    ex_vars_dummy = chosen_vars.loc[city].dropna().values.tolist()\n",
    "    if 'weekday' in ex_vars_dummy:\n",
    "        w_index = ex_vars_dummy.index('weekday')\n",
    "        ex_vars_dummy[w_index] = 'weekday_d'\n",
    "    else:\n",
    "        ex_vars_dummy.append('weekday_d')\n",
    "        \n",
    "        \n",
    "    df_post = df_post.dropna(subset=ex_vars)\n",
    "    \n",
    "    df_city = df_post[df_post['city'] == city]\n",
    "    \n",
    "    max_value = df_city[df_city.index<=datetime.strptime(starts[loc], '%m/%d/%Y')][in_var].max()\n",
    "    min_value = df_city[df_city.index>=datetime.strptime(starts[loc], '%m/%d/%Y')][in_var].min()\n",
    "    \n",
    "    pre_lockdown = np.exp(gam_pre_lockdown.predict(df_city[ex_vars]))\n",
    "    pre_lockdown[pre_lockdown>max_value] = max_value\n",
    "    \n",
    "    dummy = np.exp(gam_pre_lockdown.predict(df_city[ex_vars_dummy]))\n",
    "    dummy[dummy>max_value] = max_value\n",
    "    \n",
    "    post_pred = df_city\n",
    "    post_pred['pre_lockdown_model'] = pre_lockdown\n",
    "    post_pred['dummy_pred'] = dummy\n",
    "    post_pred['diff_pred'] = gam_lockdown.predict(post_pred['weekday'])\n",
    "    post_pred['lockdown_model'] = post_pred['dummy_pred'] + post_pred['diff_pred']\n",
    "    post_pred['time'] = post_pred.index\n",
    "    return(post_pred)"
   ]
  },
  {
   "cell_type": "code",
   "execution_count": 18,
   "metadata": {
    "scrolled": false
   },
   "outputs": [
    {
     "name": "stderr",
     "output_type": "stream",
     "text": [
      "C:\\Users\\hicom\\Anaconda3\\lib\\site-packages\\ipykernel_launcher.py:24: RuntimeWarning: invalid value encountered in greater\n",
      "C:\\Users\\hicom\\Anaconda3\\lib\\site-packages\\ipykernel_launcher.py:27: RuntimeWarning: invalid value encountered in greater\n",
      "C:\\Users\\hicom\\Anaconda3\\lib\\site-packages\\ipykernel_launcher.py:30: SettingWithCopyWarning: \n",
      "A value is trying to be set on a copy of a slice from a DataFrame.\n",
      "Try using .loc[row_indexer,col_indexer] = value instead\n",
      "\n",
      "See the caveats in the documentation: https://pandas.pydata.org/pandas-docs/stable/user_guide/indexing.html#returning-a-view-versus-a-copy\n",
      "C:\\Users\\hicom\\Anaconda3\\lib\\site-packages\\ipykernel_launcher.py:31: SettingWithCopyWarning: \n",
      "A value is trying to be set on a copy of a slice from a DataFrame.\n",
      "Try using .loc[row_indexer,col_indexer] = value instead\n",
      "\n",
      "See the caveats in the documentation: https://pandas.pydata.org/pandas-docs/stable/user_guide/indexing.html#returning-a-view-versus-a-copy\n",
      "C:\\Users\\hicom\\Anaconda3\\lib\\site-packages\\ipykernel_launcher.py:32: SettingWithCopyWarning: \n",
      "A value is trying to be set on a copy of a slice from a DataFrame.\n",
      "Try using .loc[row_indexer,col_indexer] = value instead\n",
      "\n",
      "See the caveats in the documentation: https://pandas.pydata.org/pandas-docs/stable/user_guide/indexing.html#returning-a-view-versus-a-copy\n",
      "C:\\Users\\hicom\\Anaconda3\\lib\\site-packages\\ipykernel_launcher.py:33: SettingWithCopyWarning: \n",
      "A value is trying to be set on a copy of a slice from a DataFrame.\n",
      "Try using .loc[row_indexer,col_indexer] = value instead\n",
      "\n",
      "See the caveats in the documentation: https://pandas.pydata.org/pandas-docs/stable/user_guide/indexing.html#returning-a-view-versus-a-copy\n",
      "C:\\Users\\hicom\\Anaconda3\\lib\\site-packages\\ipykernel_launcher.py:34: SettingWithCopyWarning: \n",
      "A value is trying to be set on a copy of a slice from a DataFrame.\n",
      "Try using .loc[row_indexer,col_indexer] = value instead\n",
      "\n",
      "See the caveats in the documentation: https://pandas.pydata.org/pandas-docs/stable/user_guide/indexing.html#returning-a-view-versus-a-copy\n"
     ]
    }
   ],
   "source": [
    "classes = loc_classes[loc]\n",
    "performance = pd.DataFrame(data=None, columns =np.unique(np.array(list(classes.values()))))\n",
    "post_preds = pd.DataFrame(data =None)\n",
    "for city in cities:\n",
    "    post_pred = post_predict(df_post_ld, gam_lockdown.loc[city, 'model'],gam_pre_lockdown.loc[city, 'model'], city) \n",
    "    post_preds = post_preds.append(post_pred)\n",
    "post_preds['class'] =  post_preds['city'].replace(classes)"
   ]
  },
  {
   "cell_type": "markdown",
   "metadata": {},
   "source": [
    "## \"Predict\" Pollutant Levels for the Year 2019 under Lockdown \n",
    "How much would have the pollutant levels reduced during 2019 if the country had been under lockdown the whole year?"
   ]
  },
  {
   "cell_type": "code",
   "execution_count": 19,
   "metadata": {},
   "outputs": [],
   "source": [
    "def predict_2019(df, gam_lockdown, gam_pre_lockdown, city):\n",
    "    \n",
    "    ex_vars = chosen_vars.loc[city].dropna().values.tolist()\n",
    "    if 'weekday' not in ex_vars:\n",
    "        ex_vars.append('weekday')\n",
    "    \n",
    "    # specify the same list but with the fake weekday variable instead of the true values\n",
    "    ex_vars_dummy = chosen_vars.loc[city].dropna().values.tolist()\n",
    "    if 'weekday' in ex_vars_dummy:\n",
    "        w_index = ex_vars_dummy.index('weekday')\n",
    "        ex_vars_dummy[w_index] = 'weekday_d'\n",
    "    else:\n",
    "        ex_vars_dummy.append('weekday_d')\n",
    "        \n",
    "        \n",
    "    df_pred =df[df['city'] == city]\n",
    "    df_pred =df_pred[df_pred['year']==2019]\n",
    "    \n",
    "    df_pred = df_pred.dropna(subset=ex_vars)\n",
    "    \n",
    "    df_pred['pre_lockdown_model'] = np.exp(gam_pre_lockdown.predict(df_pred[ex_vars]))\n",
    "    df_pred['dummy_pred'] = np.exp(gam_pre_lockdown.predict(df_pred[ex_vars_dummy]))\n",
    "    df_pred['diff_pred'] = gam_lockdown.predict(df_pred['weekday'])\n",
    "    df_pred['lockdown_model'] = df_pred['dummy_pred'] + df_pred['diff_pred']\n",
    "    #df_pred['diff'] = df_pred['normal_pred'] - df_pred['covid_pred'] \n",
    "    df_pred['time'] = df_pred.index\n",
    "    df_pred['city'] = city\n",
    "    return(df_pred)\n",
    "    "
   ]
  },
  {
   "cell_type": "code",
   "execution_count": 20,
   "metadata": {},
   "outputs": [],
   "source": [
    "pred_2019 = pd.DataFrame(data =None)\n",
    "for city in cities:\n",
    "    pred_ = predict_2019(df, gam_lockdown.loc[city, 'model'],gam_pre_lockdown.loc[city, 'model'], city)\n",
    "    pred_2019 = pred_2019.append(pred_)"
   ]
  },
  {
   "cell_type": "code",
   "execution_count": 21,
   "metadata": {},
   "outputs": [],
   "source": [
    "# add column for classes\n",
    "pred_2019['class'] = pred_2019['city'].replace(classes)"
   ]
  },
  {
   "cell_type": "code",
   "execution_count": 22,
   "metadata": {},
   "outputs": [],
   "source": [
    "df_compare_all.to_csv('./' + loc+ '/'+in_var+'_compare_all.csv')\n",
    "RMSE.to_csv('./' + loc+  '/'+in_var+'_RMSE.csv')\n",
    "post_preds.to_csv('./' + loc+  '/'+in_var+'_post_preds.csv')\n",
    "pred_2019.to_csv('./' + loc+  '/'+in_var+'_pred_2019.csv')"
   ]
  }
 ],
 "metadata": {
  "kernelspec": {
   "display_name": "Python 3",
   "language": "python",
   "name": "python3"
  },
  "language_info": {
   "codemirror_mode": {
    "name": "ipython",
    "version": 3
   },
   "file_extension": ".py",
   "mimetype": "text/x-python",
   "name": "python",
   "nbconvert_exporter": "python",
   "pygments_lexer": "ipython3",
   "version": "3.7.6"
  }
 },
 "nbformat": 4,
 "nbformat_minor": 4
}
