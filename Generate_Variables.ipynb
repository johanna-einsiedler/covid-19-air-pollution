{
 "cells": [
  {
   "cell_type": "markdown",
   "metadata": {},
   "source": [
    "# Variable Calculation\n",
    "\n",
    "This Jupyter Notebook enables the calculation of additional variables from the given dataset which can be further used in the model selection & model training.\n",
    "\n",
    "The input needed for this script is a dataset containing weather variables for one or more locations. The first column of the dataframe should contain the day of observation in the format of YYYY-MM-DD. Further, the dataframe should contain a column called 'city' that contains the name of the weather station. The following naming convention is applied for weather variables here:\n",
    "\n",
    "- ws: windspeed\n",
    "- t: temperature\n",
    "- wd: wind direction in degrees\n",
    "- h: humidity relative to temperature\n",
    "- p: precipitation\n",
    "- sun: solar irradiance\n",
    "- press: air pressure\n",
    "- dew: dew point\n",
    "\n",
    "Not all of these variables have to be supplied. \n"
   ]
  },
  {
   "cell_type": "markdown",
   "metadata": {},
   "source": [
    "## Load Libraries & Data"
   ]
  },
  {
   "cell_type": "code",
   "execution_count": 10,
   "metadata": {},
   "outputs": [],
   "source": [
    "# import libraries\n",
    "import numpy as np\n",
    "import pandas as pd\n",
    "from matplotlib import pyplot as plt\n",
    "import shapefile as shp\n",
    "import matplotlib.pyplot as plt\n",
    "import seaborn as sns\n",
    "from datetime import datetime\n",
    "import math\n",
    "from sklearn.decomposition import PCA, KernelPCA"
   ]
  },
  {
   "cell_type": "code",
   "execution_count": 15,
   "metadata": {},
   "outputs": [],
   "source": [
    "# input path to raw csv file with air pollution and weather data\n",
    "data_path = './che/df_che.csv'"
   ]
  },
  {
   "cell_type": "code",
   "execution_count": 16,
   "metadata": {},
   "outputs": [],
   "source": [
    "# read in dataset\n",
    "df = pd.read_csv(data_path, encoding='latin1', index_col = 0)"
   ]
  },
  {
   "cell_type": "code",
   "execution_count": 4,
   "metadata": {},
   "outputs": [
    {
     "name": "stdout",
     "output_type": "stream",
     "text": [
      "The dataset contains the following variables: ['pm10' 'sun' 't' 'o3' 'no2' 'nox' 'no' 'ws' 'wd' 'press' 'h' 'pm25' 'co'\n",
      " 'p' 'so2' 'city']\n"
     ]
    }
   ],
   "source": [
    "# get an overview of the variables \n",
    "print('The dataset contains the following variables:', df.columns.values)"
   ]
  },
  {
   "cell_type": "code",
   "execution_count": 5,
   "metadata": {},
   "outputs": [],
   "source": [
    "# set index to datetime format value of time column & drop time column\n",
    "df.index = pd.to_datetime(df.index, format = '%Y-%m-%d')"
   ]
  },
  {
   "cell_type": "code",
   "execution_count": 6,
   "metadata": {},
   "outputs": [
    {
     "name": "stdout",
     "output_type": "stream",
     "text": [
      "The dataset covers the following cities: ['Opfikon_Balsberg' 'StGallen_Blumenbergplatz' 'StGallen_Stuelegg'\n",
      " 'Zuerich_Schimmelstrasse' 'Zuerich_Stampfenbachstrasse']\n"
     ]
    }
   ],
   "source": [
    "# get vector with names of all the cities\n",
    "cities = np.unique(df['city'].values)\n",
    "print('The dataset covers the following cities:', cities)"
   ]
  },
  {
   "cell_type": "markdown",
   "metadata": {},
   "source": [
    "## Calculate Additional Variables\n",
    "\n",
    "### Dew Point\n",
    "The dew point indicates the amount of moisture in the air. The higher the dew point, the higher the moisture content of the air at a given temperature. If not included in the dataset, the dew point can approximated using the following simple formula:\n",
    "\n",
    "$$\n",
    "t_{dp} = t - \\frac{100- h}{5}\n",
    "$$\n",
    "\n",
    "where $t_{dp}$ is the dew point, $t$ is the temperature and $h$ is relative humidity.\n"
   ]
  },
  {
   "cell_type": "code",
   "execution_count": 7,
   "metadata": {},
   "outputs": [],
   "source": [
    "if not('dew' in df.columns):\n",
    "    df['dew'] = df['t'] -((100-df['h'])/5)"
   ]
  },
  {
   "cell_type": "markdown",
   "metadata": {},
   "source": [
    "## Principal Component Analysis\n",
    "Prinicipal Component Analysis (PCA) is a technique to reduce dimensionality. As humidity, temperature, dew point and precipation are often highly correlated (due to the definition of these variables or due to environmental relationships), PCA offers a technique to create a variable that captures most of the variablity present in these variables. This can help reduce collinearity in the final model (which in turn can lead to incorrect attribution of effects to variables). The first component calculated through PCA is added to the dataset with the name 'pca'.\n",
    "\n",
    "For more information on collinearity: https://doi.org/10.1111/j.1600-0587.2012.07348.x"
   ]
  },
  {
   "cell_type": "code",
   "execution_count": 8,
   "metadata": {},
   "outputs": [],
   "source": [
    "# perform principal component analysis for humidity, dew point, temperature and precipitation (if all of these are available)\n",
    "\n",
    "# initalize PCA model & fit to dataset\n",
    "n = 0\n",
    "pca_vars = ['h', 'dew', 't', 'p']\n",
    "for var in pca_vars:\n",
    "    if var in df.columns:\n",
    "        n = n + 1\n",
    "    else:\n",
    "        pca_vars.remove(var)\n",
    "\n",
    "pca=PCA(n_components = n) \n",
    "_pca = pca.fit(df[pca_vars]) \n",
    "\n",
    "# get one transformed variable\n",
    "transformed = pca.fit_transform(df[pca_vars])[:,0]\n",
    "df['pca'] = transformed"
   ]
  },
  {
   "cell_type": "markdown",
   "metadata": {},
   "source": [
    "Calculation of various long-term lag variables for the first principal component variable."
   ]
  },
  {
   "cell_type": "code",
   "execution_count": 9,
   "metadata": {},
   "outputs": [],
   "source": [
    "df['lagpca_year'] =df.pca.rolling(window=336, min_periods =1).mean()\n",
    "df['lagpca_halfyear'] =df.pca.rolling(window=168, min_periods =1).mean()\n",
    "df['lagpca_12weeks'] = df.pca.rolling(window=84, min_periods =1).mean()\n",
    "df['lagpca_8weeks'] = df.pca.rolling(window=56, min_periods =1).mean()\n",
    "df['lagpca_4weeks'] = df.pca.rolling(window=28, min_periods =1).mean()\n",
    "df['lagpca_2weeks'] = df.pca.rolling(window=14, min_periods =1).mean()\n",
    "df['lagpca_1week'] = df.pca.rolling(window=7, min_periods =1).mean()"
   ]
  },
  {
   "cell_type": "markdown",
   "metadata": {},
   "source": [
    "## Long-Term Windspeed Lags\n",
    "As wind speed is known to have a big influence on air pollution in general and often in many cities the current air pollution levels are also dependent on the wind speeds the weeks before, laggeed variables with the mean and maximum windspeed through the last 1 week, 2 weeks and 4weeks are calculated. "
   ]
  },
  {
   "cell_type": "code",
   "execution_count": 10,
   "metadata": {},
   "outputs": [],
   "source": [
    "df['lagws_4weeks'] = df.ws.rolling(window=28, min_periods =1).mean()\n",
    "df['lagws_2weeks'] = df.ws.rolling(window=14, min_periods =1).mean()\n",
    "df['lagws_1week'] = df.ws.rolling(window=7, min_periods=1).mean()\n",
    "\n",
    "df['lagws_4weeks_max'] = df.ws.rolling(window=28, min_periods =1).max()\n",
    "df['lagws_2weeks_max'] = df.ws.rolling(window=14, min_periods =1).max()\n",
    "df['lagws_1week_max'] = df.ws.rolling(window=7, min_periods=1).max()"
   ]
  },
  {
   "cell_type": "markdown",
   "metadata": {},
   "source": [
    "## Year, Month & Weekday\n",
    "\n",
    "Additional categorical variables are added for the year, month and weekday of an observation."
   ]
  },
  {
   "cell_type": "code",
   "execution_count": 11,
   "metadata": {},
   "outputs": [],
   "source": [
    "# calculate additional time variables\n",
    "df['year'] = df.index.year\n",
    "df['weekday'] = df.index.weekday\n",
    "df['month'] = df.index.month"
   ]
  },
  {
   "cell_type": "markdown",
   "metadata": {},
   "source": [
    "## Winddirection Transformation\n",
    "The wind direction variable is ransformed from a linear scale of wind direction with polar coordinates (0-360°) to Cartesian coordinates, where angles increase clockwise. This allows for a more accurate feature representation of the data for wind direction around the north axis. We call the resulting variables representing x- and y- coordinates of the wind direction 'wx' and 'wy'."
   ]
  },
  {
   "cell_type": "code",
   "execution_count": 12,
   "metadata": {},
   "outputs": [],
   "source": [
    "df['wx'] = np.sin(df['wd']/360 * 2*math.pi)\n",
    "df['wy'] = np.cos(df['wd']/360 * 2*math.pi) "
   ]
  },
  {
   "cell_type": "markdown",
   "metadata": {},
   "source": [
    "## Julian Day\n",
    "Julian Day refers to an ongoing counter variable. The first day of observations in the dataset is assigned the value '0'."
   ]
  },
  {
   "cell_type": "code",
   "execution_count": 13,
   "metadata": {},
   "outputs": [],
   "source": [
    "df['julian'] = pd.Series({x: (x - df.index[0]).total_seconds()/3600 for x in df.index})"
   ]
  },
  {
   "cell_type": "markdown",
   "metadata": {},
   "source": [
    "## Lagged Variables\n",
    "Often not only the current weather situation influences air pollution but also the weather of the previous days. Therefore, 1-day, 2-days and 3-days lags are caluclated for all weather variables."
   ]
  },
  {
   "cell_type": "code",
   "execution_count": 14,
   "metadata": {},
   "outputs": [],
   "source": [
    "# shfit values one period\n",
    "df['h_lag1'] = df['h'].shift()\n",
    "df['t_lag1'] = df['t'].shift()\n",
    "df['wx_lag1'] = df['wx'].shift()\n",
    "df['wy_lag1'] = df['wy'].shift()\n",
    "df['ws_lag1'] = df['ws'].shift()\n",
    "df['dew_lag1'] = df['dew'].shift()"
   ]
  },
  {
   "cell_type": "code",
   "execution_count": 15,
   "metadata": {},
   "outputs": [],
   "source": [
    "# shift values two periods\n",
    "df['h_lag2'] = df['h'].shift(periods =2)\n",
    "df['t_lag2'] = df['t'].shift(periods =2)\n",
    "df['wx_lag2'] = df['wx'].shift(periods =2)\n",
    "df['wy_lag2'] = df['wy'].shift(periods =2)\n",
    "df['ws_lag2'] = df['ws'].shift(periods =2)\n",
    "df['dew_lag2'] = df['dew'].shift(periods =2)"
   ]
  },
  {
   "cell_type": "code",
   "execution_count": 16,
   "metadata": {},
   "outputs": [],
   "source": [
    "# shift values three periods\n",
    "df['h_lag3'] = df['h'].shift(periods =3)\n",
    "df['t_lag3'] = df['t'].shift(periods =3)\n",
    "df['wx_lag3'] = df['wx'].shift(periods =3)\n",
    "df['wy_lag3'] = df['wy'].shift(periods =3)\n",
    "df['ws_lag3'] = df['ws'].shift(periods =3)\n",
    "df['dew_lag3'] = df['dew'].shift(periods = 3)"
   ]
  },
  {
   "cell_type": "markdown",
   "metadata": {},
   "source": [
    "This dataframe with additional variables can be used to perform the model selection algorithm. Details are given in the script \"Model Selection\"."
   ]
  },
  {
   "cell_type": "code",
   "execution_count": 19,
   "metadata": {},
   "outputs": [],
   "source": [
    "df.to_csv('.che/df_che2.csv')"
   ]
  }
 ],
 "metadata": {
  "kernelspec": {
   "display_name": "Python 3",
   "language": "python",
   "name": "python3"
  },
  "language_info": {
   "codemirror_mode": {
    "name": "ipython",
    "version": 3
   },
   "file_extension": ".py",
   "mimetype": "text/x-python",
   "name": "python",
   "nbconvert_exporter": "python",
   "pygments_lexer": "ipython3",
   "version": "3.7.6"
  }
 },
 "nbformat": 4,
 "nbformat_minor": 4
}
